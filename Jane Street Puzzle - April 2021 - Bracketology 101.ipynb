{
 "cells": [
  {
   "cell_type": "code",
   "execution_count": 1,
   "metadata": {},
   "outputs": [],
   "source": [
    "def Probability(a,b):\n",
    "    Dict = {}    \n",
    "    for i in a:\n",
    "        for j in b:\n",
    "            i_Win = (j[0] / (i[0] + j[0]))*i[1]*j[1]\n",
    "            j_Win = (i[0] / (i[0] + j[0]))*i[1]*j[1]\n",
    "            if i[0] not in Dict:\n",
    "                Dict[i[0]] = i_Win\n",
    "            else:\n",
    "                Dict[i[0]] += i_Win\n",
    "            if j[0] not in Dict:\n",
    "                Dict[j[0]] = j_Win\n",
    "            else:\n",
    "                Dict[j[0]] += j_Win\n",
    "    return Dict\n",
    "            \n",
    "                "
   ]
  },
  {
   "cell_type": "code",
   "execution_count": 2,
   "metadata": {},
   "outputs": [
    {
     "name": "stdout",
     "output_type": "stream",
     "text": [
      "The increase in probability = 0.06557950370257651\n"
     ]
    }
   ],
   "source": [
    "import copy\n",
    "Grouping = [[1,1],[16,1],[8,1],[9,1],[5,1],[12,1],[4,1],[13,1],[6,1],[11,1],[3,1],[14,1],[7,1],[10,1],[2,1],[15,1]]\n",
    "Combinations = []\n",
    "for i in range(len(Grouping)):\n",
    "    for j in range(i+1,len(Grouping)):\n",
    "        Combination = copy.deepcopy(Grouping)\n",
    "        tmp = Grouping[i]\n",
    "        Combination[i] = Grouping[j]\n",
    "        Combination[j] = tmp\n",
    "        Combinations += [Combination]\n",
    "Max = 0\n",
    "Max_Combination = []\n",
    "#Original Probability\n",
    "Dict = {}\n",
    "for i in Grouping:\n",
    "    Dict[i[0]] = i[1]\n",
    "Dict_list = list(Dict.keys())\n",
    "Tmp = copy.deepcopy(Grouping)\n",
    "for i in range(0,len(Dict_list),2):\n",
    "    Dict.update(Probability(Tmp[i:i+1],Tmp[i+1:i+2]))\n",
    "Tmp = []\n",
    "for key,value in Dict.items():\n",
    "    Tmp.append([key,value])\n",
    "for i in range(0,len(Dict_list),4):\n",
    "    Dict.update(Probability(Tmp[i:i+2],Tmp[i+2:i+4]))\n",
    "Tmp = []\n",
    "for key,value in Dict.items():\n",
    "    Tmp.append([key,value])\n",
    "for i in range(0,len(Dict_list),8):\n",
    "    Dict.update(Probability(Tmp[i:i+4],Tmp[i+4:i+8]))\n",
    "Tmp = []\n",
    "for key,value in Dict.items():\n",
    "    Tmp.append([key,value])\n",
    "for i in range(0,len(Dict_list),16):\n",
    "    Dict.update(Probability(Tmp[i:i+8],Tmp[i+8:i+16]))\n",
    "Current = Dict[2]\n",
    "\n",
    "#Finding the Max Probability after swap\n",
    "for combination in Combinations: \n",
    "    Dict = {}\n",
    "    for i in combination:\n",
    "        Dict[i[0]] = i[1]\n",
    "    Dict_list = list(Dict.keys())\n",
    "    Tmp = copy.deepcopy(combination)\n",
    "    for i in range(0,len(Dict_list),2):\n",
    "        Dict.update(Probability(Tmp[i:i+1],Tmp[i+1:i+2]))\n",
    "    Tmp = []\n",
    "    for key,value in Dict.items():\n",
    "        Tmp.append([key,value])\n",
    "    for i in range(0,len(Dict_list),4):\n",
    "        Dict.update(Probability(Tmp[i:i+2],Tmp[i+2:i+4]))\n",
    "    Tmp = []\n",
    "    for key,value in Dict.items():\n",
    "        Tmp.append([key,value])\n",
    "    for i in range(0,len(Dict_list),8):\n",
    "        Dict.update(Probability(Tmp[i:i+4],Tmp[i+4:i+8]))\n",
    "    Tmp = []\n",
    "    for key,value in Dict.items():\n",
    "        Tmp.append([key,value])\n",
    "    for i in range(0,len(Dict_list),16):\n",
    "        Dict.update(Probability(Tmp[i:i+8],Tmp[i+8:i+16]))\n",
    "    if Dict[2] > Max:\n",
    "        Max = Dict[2]\n",
    "        Max_Combination = combination\n",
    "\n",
    "print(\"The increase in probability = \" + str(Max - Current))\n"
   ]
  },
  {
   "cell_type": "code",
   "execution_count": null,
   "metadata": {},
   "outputs": [],
   "source": []
  }
 ],
 "metadata": {
  "kernelspec": {
   "display_name": "Python 3",
   "language": "python",
   "name": "python3"
  },
  "language_info": {
   "codemirror_mode": {
    "name": "ipython",
    "version": 3
   },
   "file_extension": ".py",
   "mimetype": "text/x-python",
   "name": "python",
   "nbconvert_exporter": "python",
   "pygments_lexer": "ipython3",
   "version": "3.8.5"
  }
 },
 "nbformat": 4,
 "nbformat_minor": 4
}
